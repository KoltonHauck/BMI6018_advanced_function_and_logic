{
 "cells": [
  {
   "cell_type": "markdown",
   "id": "bf98beb2",
   "metadata": {},
   "source": [
    "Write a python program that, given an input list of any level of complexity/nestedness, will return the inner most list plus 1. This is to be done with a while loop. Note: the input will contain only integers or lists."
   ]
  },
  {
   "cell_type": "code",
   "execution_count": 1,
   "id": "a3bfc874",
   "metadata": {},
   "outputs": [],
   "source": [
    "example_list1 = [1, 2, 3, 4, [5, 6, 7, [8, 9]]]\n",
    "example_list2 = [[1,2,3], [4,5,[6,7,[8]]], [9]]\n",
    "example_list3 = [1,2,3,4]\n",
    "example_list4 = [[1], [2], [3,4, [5,6]], 7, 8, 9, [10, 11, [[12], 13, 15]]]"
   ]
  },
  {
   "cell_type": "code",
   "execution_count": 2,
   "id": "b405d171",
   "metadata": {},
   "outputs": [],
   "source": [
    "def hasNested(l):\n",
    "    '''\n",
    "    Given a list, will return True/False if list contains a nested list. \n",
    "    '''\n",
    "    flag = False\n",
    "    \n",
    "    for x in l: #for item in list\n",
    "        if isinstance(x, list): #if item is a list\n",
    "            flag = True\n",
    "    \n",
    "    return flag\n",
    "    \n",
    "def while_inner_plus(l):\n",
    "    '''\n",
    "    Given a list, will return the deepest nested list, with all values incremented by 1\n",
    "    '''\n",
    "    deepest = l.copy() #make given list the current deepest list\n",
    "    \n",
    "    while True: #indefinite loop\n",
    "        if hasNested(deepest): #if current deepest has a deeper\n",
    "            tmp = [] #initialize a temporary list (will become deepest)\n",
    "            for x in deepest: #iterate through items of current deepest list\n",
    "                if isinstance(x, list): #if item (x) is a list\n",
    "                    tmp.extend(x) #add items of x (list) to tmp\n",
    "            deepest = tmp.copy() #make tmp current deepest\n",
    "        else: #if current deepest does not have a deeper nested, return list, with values incremented\n",
    "            return [x+1 for x in deepest]"
   ]
  },
  {
   "cell_type": "code",
   "execution_count": 3,
   "id": "19057647",
   "metadata": {},
   "outputs": [
    {
     "name": "stdout",
     "output_type": "stream",
     "text": [
      "[9, 10]\n"
     ]
    }
   ],
   "source": [
    "print(while_inner_plus(example_list1))"
   ]
  },
  {
   "cell_type": "code",
   "execution_count": 4,
   "id": "157a5aca",
   "metadata": {},
   "outputs": [
    {
     "name": "stdout",
     "output_type": "stream",
     "text": [
      "[9]\n"
     ]
    }
   ],
   "source": [
    "print(while_inner_plus(example_list2))"
   ]
  },
  {
   "cell_type": "code",
   "execution_count": 5,
   "id": "47cf711d",
   "metadata": {},
   "outputs": [
    {
     "name": "stdout",
     "output_type": "stream",
     "text": [
      "[2, 3, 4, 5]\n"
     ]
    }
   ],
   "source": [
    "print(while_inner_plus(example_list3))"
   ]
  },
  {
   "cell_type": "code",
   "execution_count": 6,
   "id": "fed1e117",
   "metadata": {},
   "outputs": [
    {
     "name": "stdout",
     "output_type": "stream",
     "text": [
      "[13]\n"
     ]
    }
   ],
   "source": [
    "print(while_inner_plus(example_list4))"
   ]
  },
  {
   "cell_type": "code",
   "execution_count": 7,
   "id": "d4bf3db7",
   "metadata": {},
   "outputs": [],
   "source": [
    "def while_inner_plus_with_any(l):\n",
    "    '''\n",
    "    Given list, will return the deepest nested list with values incremented\n",
    "    '''\n",
    "    deepest = l.copy()\n",
    "    \n",
    "    while any(type(obj) == list for obj in deepest):\n",
    "        tmp = []\n",
    "        for x in deepest:\n",
    "            if isinstance(x, list):\n",
    "                tmp.extend(x)\n",
    "        deepest = tmp.copy()\n",
    "    else:\n",
    "        return [x+1 for x in deepest]"
   ]
  },
  {
   "cell_type": "code",
   "execution_count": 8,
   "id": "cf2ec2f1",
   "metadata": {},
   "outputs": [
    {
     "name": "stdout",
     "output_type": "stream",
     "text": [
      "[9, 10]\n"
     ]
    }
   ],
   "source": [
    "print(while_inner_plus_with_any(example_list1))"
   ]
  },
  {
   "cell_type": "code",
   "execution_count": 9,
   "id": "f6f33c89",
   "metadata": {},
   "outputs": [
    {
     "name": "stdout",
     "output_type": "stream",
     "text": [
      "[9]\n"
     ]
    }
   ],
   "source": [
    "print(while_inner_plus_with_any(example_list2))"
   ]
  },
  {
   "cell_type": "code",
   "execution_count": 10,
   "id": "c5077ba5",
   "metadata": {},
   "outputs": [
    {
     "name": "stdout",
     "output_type": "stream",
     "text": [
      "[2, 3, 4, 5]\n"
     ]
    }
   ],
   "source": [
    "print(while_inner_plus_with_any(example_list3))"
   ]
  },
  {
   "cell_type": "code",
   "execution_count": 11,
   "id": "61c79c1d",
   "metadata": {},
   "outputs": [
    {
     "name": "stdout",
     "output_type": "stream",
     "text": [
      "[13]\n"
     ]
    }
   ],
   "source": [
    "print(while_inner_plus_with_any(example_list4))"
   ]
  }
 ],
 "metadata": {
  "kernelspec": {
   "display_name": "Python 3",
   "language": "python",
   "name": "python3"
  },
  "language_info": {
   "codemirror_mode": {
    "name": "ipython",
    "version": 3
   },
   "file_extension": ".py",
   "mimetype": "text/x-python",
   "name": "python",
   "nbconvert_exporter": "python",
   "pygments_lexer": "ipython3",
   "version": "3.8.8"
  }
 },
 "nbformat": 4,
 "nbformat_minor": 5
}
