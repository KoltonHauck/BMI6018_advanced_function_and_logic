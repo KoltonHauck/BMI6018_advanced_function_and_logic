{
 "cells": [
  {
   "cell_type": "markdown",
   "id": "7442d14d",
   "metadata": {},
   "source": [
    "Write a python program that, given an input list, will filter the input above a user defined threshold. This is to be done with a standard function."
   ]
  },
  {
   "cell_type": "code",
   "execution_count": 10,
   "id": "ed922cb8",
   "metadata": {},
   "outputs": [],
   "source": [
    "def function_filter_list(l, flag):\n",
    "    i = l.index(flag)\n",
    "    return l[:i+1]"
   ]
  },
  {
   "cell_type": "code",
   "execution_count": 11,
   "id": "449510a2",
   "metadata": {},
   "outputs": [],
   "source": [
    "l = [1,2,3,4,5,6,7,8,9]"
   ]
  },
  {
   "cell_type": "code",
   "execution_count": 12,
   "id": "e1585105",
   "metadata": {},
   "outputs": [
    {
     "data": {
      "text/plain": [
       "[1, 2, 3, 4, 5, 6]"
      ]
     },
     "execution_count": 12,
     "metadata": {},
     "output_type": "execute_result"
    }
   ],
   "source": [
    "function_filter_list(l, 6)"
   ]
  },
  {
   "cell_type": "code",
   "execution_count": 13,
   "id": "c0e00fba",
   "metadata": {},
   "outputs": [
    {
     "data": {
      "text/plain": [
       "[1, 2, 3, 4]"
      ]
     },
     "execution_count": 13,
     "metadata": {},
     "output_type": "execute_result"
    }
   ],
   "source": [
    "function_filter_list(l, 4)"
   ]
  },
  {
   "cell_type": "code",
   "execution_count": null,
   "id": "f41be8e9",
   "metadata": {},
   "outputs": [],
   "source": []
  }
 ],
 "metadata": {
  "kernelspec": {
   "display_name": "Python 3",
   "language": "python",
   "name": "python3"
  },
  "language_info": {
   "codemirror_mode": {
    "name": "ipython",
    "version": 3
   },
   "file_extension": ".py",
   "mimetype": "text/x-python",
   "name": "python",
   "nbconvert_exporter": "python",
   "pygments_lexer": "ipython3",
   "version": "3.8.8"
  }
 },
 "nbformat": 4,
 "nbformat_minor": 5
}
